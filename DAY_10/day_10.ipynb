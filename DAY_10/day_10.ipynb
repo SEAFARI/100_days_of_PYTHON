{
 "cells": [
  {
   "cell_type": "markdown",
   "id": "1a05986c",
   "metadata": {},
   "source": [
    "## Functions with output"
   ]
  },
  {
   "cell_type": "code",
   "execution_count": 1,
   "id": "49e4cba6",
   "metadata": {},
   "outputs": [
    {
     "data": {
      "text/plain": [
       "5"
      ]
     },
     "execution_count": 1,
     "metadata": {},
     "output_type": "execute_result"
    }
   ],
   "source": [
    "def my_function():\n",
    "    result = 3 + 2\n",
    "    return result\n",
    "\n",
    "my_function()"
   ]
  },
  {
   "cell_type": "markdown",
   "id": "980b3b9e",
   "metadata": {},
   "source": [
    "### title() function takes a string and return the results in title case"
   ]
  },
  {
   "cell_type": "code",
   "execution_count": 3,
   "id": "4f8b0690",
   "metadata": {},
   "outputs": [
    {
     "name": "stdout",
     "output_type": "stream",
     "text": [
      "Sam Altman\n"
     ]
    }
   ],
   "source": [
    "def format_name(f_name,l_name):\n",
    "    f_name = f_name.title()\n",
    "    l_name = l_name.title()\n",
    "\n",
    "    return f\"{f_name} {l_name}\"\n",
    "\n",
    "\n",
    "print(format_name(\"sAM\",\"ALTMan\"))"
   ]
  },
  {
   "cell_type": "code",
   "execution_count": 4,
   "id": "ac2ac2fc",
   "metadata": {},
   "outputs": [
    {
     "name": "stdout",
     "output_type": "stream",
     "text": [
      "Helloworld\n"
     ]
    }
   ],
   "source": [
    "## functions inside functions\n",
    "\n",
    "def return_title_Case(input):\n",
    "    return input.title()\n",
    "\n",
    "def add_strings(string_1,string_2):\n",
    "    return string_1+string_2\n",
    "\n",
    "print(return_title_Case(add_strings(\"heLLo\",\"WORld\")))"
   ]
  },
  {
   "cell_type": "code",
   "execution_count": null,
   "id": "ee71a5cc",
   "metadata": {},
   "outputs": [],
   "source": []
  }
 ],
 "metadata": {
  "kernelspec": {
   "display_name": "Python 3",
   "language": "python",
   "name": "python3"
  },
  "language_info": {
   "codemirror_mode": {
    "name": "ipython",
    "version": 3
   },
   "file_extension": ".py",
   "mimetype": "text/x-python",
   "name": "python",
   "nbconvert_exporter": "python",
   "pygments_lexer": "ipython3",
   "version": "3.12.7"
  }
 },
 "nbformat": 4,
 "nbformat_minor": 5
}
