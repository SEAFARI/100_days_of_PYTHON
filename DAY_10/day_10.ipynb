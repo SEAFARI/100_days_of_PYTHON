{
 "cells": [
  {
   "cell_type": "markdown",
   "id": "1a05986c",
   "metadata": {},
   "source": [
    "## Functions with output"
   ]
  },
  {
   "cell_type": "code",
   "execution_count": 1,
   "id": "49e4cba6",
   "metadata": {},
   "outputs": [
    {
     "data": {
      "text/plain": [
       "5"
      ]
     },
     "execution_count": 1,
     "metadata": {},
     "output_type": "execute_result"
    }
   ],
   "source": [
    "def my_function():\n",
    "    result = 3 + 2\n",
    "    return result\n",
    "\n",
    "my_function()"
   ]
  },
  {
   "cell_type": "markdown",
   "id": "980b3b9e",
   "metadata": {},
   "source": [
    "### title() function takes a string and return the results in title case"
   ]
  },
  {
   "cell_type": "code",
   "execution_count": 3,
   "id": "4f8b0690",
   "metadata": {},
   "outputs": [
    {
     "name": "stdout",
     "output_type": "stream",
     "text": [
      "Sam Altman\n"
     ]
    }
   ],
   "source": [
    "def format_name(f_name,l_name):\n",
    "    f_name = f_name.title()\n",
    "    l_name = l_name.title()\n",
    "\n",
    "    return f\"{f_name} {l_name}\"\n",
    "\n",
    "\n",
    "print(format_name(\"sAM\",\"ALTMan\"))"
   ]
  },
  {
   "cell_type": "code",
   "execution_count": 4,
   "id": "ac2ac2fc",
   "metadata": {},
   "outputs": [
    {
     "name": "stdout",
     "output_type": "stream",
     "text": [
      "Helloworld\n"
     ]
    }
   ],
   "source": [
    "## functions inside functions\n",
    "\n",
    "def return_title_Case(input):\n",
    "    return input.title()\n",
    "\n",
    "def add_strings(string_1,string_2):\n",
    "    return string_1+string_2\n",
    "\n",
    "print(return_title_Case(add_strings(\"heLLo\",\"WORld\")))"
   ]
  },
  {
   "cell_type": "markdown",
   "id": "bd29b41d",
   "metadata": {},
   "source": [
    "### Multiple return values"
   ]
  },
  {
   "cell_type": "code",
   "execution_count": null,
   "id": "ee71a5cc",
   "metadata": {},
   "outputs": [
    {
     "data": {
      "text/plain": [
       "True"
      ]
     },
     "execution_count": 1,
     "metadata": {},
     "output_type": "execute_result"
    }
   ],
   "source": [
    "## Conditional Returns\n",
    "\n",
    "def Can_Buy_chocolate(age):\n",
    "    if age >= 18:\n",
    "        return True\n",
    "    else:\n",
    "        return False\n",
    "Can_Buy_chocolate(18)"
   ]
  },
  {
   "cell_type": "code",
   "execution_count": 3,
   "id": "9c9f7973",
   "metadata": {},
   "outputs": [
    {
     "data": {
      "text/plain": [
       "True"
      ]
     },
     "execution_count": 3,
     "metadata": {},
     "output_type": "execute_result"
    }
   ],
   "source": [
    "## Empty Returns\n",
    "\n",
    "def canBuyAlcohol(age):\n",
    "    # If the data type of the age input is not a int, then exit.\n",
    "    if type(age) != int:\n",
    "        return\n",
    "\n",
    "    if age >= 18:\n",
    "        return True\n",
    "    else:\n",
    "        return False\n",
    "    \n",
    "canBuyAlcohol(21)"
   ]
  },
  {
   "cell_type": "code",
   "execution_count": 4,
   "id": "03416020",
   "metadata": {},
   "outputs": [
    {
     "name": "stdout",
     "output_type": "stream",
     "text": [
      "True\n"
     ]
    }
   ],
   "source": [
    "## Leap year coding exercise \n",
    "\n",
    "def is_leap_year(year):\n",
    "    if year % 100 ==0:\n",
    "        if year%400 ==0:\n",
    "            return True\n",
    "        else:\n",
    "            return False\n",
    "    elif year%4==0:\n",
    "        return True\n",
    "        \n",
    "    else:\n",
    "        return False\n",
    "        \n",
    "        \n",
    "print(is_leap_year(2400))"
   ]
  },
  {
   "cell_type": "markdown",
   "id": "b8698bd9",
   "metadata": {},
   "source": [
    "## Docstring"
   ]
  },
  {
   "cell_type": "code",
   "execution_count": null,
   "id": "31b2e68e",
   "metadata": {},
   "outputs": [],
   "source": [
    "## below is an example fo docstring\n",
    "## you can hover over the func name and can see the docstring being shown. it gets populated into the documentation. "
   ]
  },
  {
   "cell_type": "code",
   "execution_count": 6,
   "id": "ff6568a3",
   "metadata": {},
   "outputs": [
    {
     "name": "stdout",
     "output_type": "stream",
     "text": [
      "Sam Altman\n"
     ]
    }
   ],
   "source": [
    "def format_name(f_name,l_name):\n",
    "    \"\"\"Takes the first name and last name of a person.   \n",
    "    Print the full name in title case\"\"\"\n",
    "    f_name = f_name.title()\n",
    "    l_name = l_name.title()\n",
    "\n",
    "    return f\"{f_name} {l_name}\"\n",
    "\n",
    "\n",
    "print(format_name(\"sAM\",\"ALTMan\"))"
   ]
  },
  {
   "cell_type": "code",
   "execution_count": null,
   "id": "07ab75e0",
   "metadata": {},
   "outputs": [],
   "source": []
  },
  {
   "cell_type": "code",
   "execution_count": null,
   "id": "15c541a5",
   "metadata": {},
   "outputs": [],
   "source": []
  }
 ],
 "metadata": {
  "kernelspec": {
   "display_name": "base",
   "language": "python",
   "name": "python3"
  },
  "language_info": {
   "codemirror_mode": {
    "name": "ipython",
    "version": 3
   },
   "file_extension": ".py",
   "mimetype": "text/x-python",
   "name": "python",
   "nbconvert_exporter": "python",
   "pygments_lexer": "ipython3",
   "version": "3.12.7"
  }
 },
 "nbformat": 4,
 "nbformat_minor": 5
}
