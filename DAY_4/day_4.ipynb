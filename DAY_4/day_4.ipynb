{
 "cells": [
  {
   "cell_type": "code",
   "execution_count": null,
   "id": "74d1afa6",
   "metadata": {},
   "outputs": [],
   "source": [
    "## RANDOMIZATION\n",
    "# Computers are deterministic. Python uses mersenne twister to create psudorandom number generators"
   ]
  },
  {
   "cell_type": "markdown",
   "id": "197565f1",
   "metadata": {},
   "source": [
    "docs:  https://docs.python.org/3/library/random.html"
   ]
  },
  {
   "cell_type": "code",
   "execution_count": null,
   "id": "7dd60c26",
   "metadata": {},
   "outputs": [
    {
     "name": "stdout",
     "output_type": "stream",
     "text": [
      "2\n"
     ]
    }
   ],
   "source": [
    "import random\n",
    "\n",
    "random_integer = random.randint(1,10)  ## includes 1 and 10 also\n",
    "print(random_integer)"
   ]
  },
  {
   "cell_type": "code",
   "execution_count": 3,
   "id": "9a4645cb",
   "metadata": {},
   "outputs": [
    {
     "name": "stdout",
     "output_type": "stream",
     "text": [
      "3.14\n"
     ]
    }
   ],
   "source": [
    "import my_module\n",
    "print(my_module.my_favourite_number)"
   ]
  },
  {
   "cell_type": "code",
   "execution_count": null,
   "id": "24c61986",
   "metadata": {},
   "outputs": [
    {
     "name": "stdout",
     "output_type": "stream",
     "text": [
      "0.4527627060817617\n"
     ]
    }
   ],
   "source": [
    "# Random floating point numbers\n",
    "\n",
    "random_number_0_to_1 = random.random()  # first random is the module name\n",
    "print(random_number_0_to_1) ## always includs 0 but never 1 "
   ]
  },
  {
   "cell_type": "code",
   "execution_count": 36,
   "id": "25794894",
   "metadata": {},
   "outputs": [
    {
     "name": "stdout",
     "output_type": "stream",
     "text": [
      "2.960753881547659\n"
     ]
    }
   ],
   "source": [
    "random_number = random.uniform(1,10)  # first random is the module name\n",
    "print(random_number)"
   ]
  },
  {
   "cell_type": "code",
   "execution_count": 41,
   "id": "bc28396c",
   "metadata": {},
   "outputs": [
    {
     "name": "stdout",
     "output_type": "stream",
     "text": [
      "Tails\n"
     ]
    }
   ],
   "source": [
    "## coin toss\n",
    "random_number = random.random()\n",
    "\n",
    "if random_number > 0.5:\n",
    "    print(\"Heads\")\n",
    "else:\n",
    "    print(\"Tails\")"
   ]
  },
  {
   "cell_type": "code",
   "execution_count": null,
   "id": "5d3e892c",
   "metadata": {},
   "outputs": [
    {
     "name": "stdout",
     "output_type": "stream",
     "text": [
      "Tails\n"
     ]
    }
   ],
   "source": [
    "## coin toss using randint\n",
    "random_number = random.randint(0,1)\n",
    "if random_number > 0.5:\n",
    "    print(\"Heads\")\n",
    "else:\n",
    "    print(\"Tails\")"
   ]
  },
  {
   "cell_type": "code",
   "execution_count": null,
   "id": "01f30afe",
   "metadata": {},
   "outputs": [],
   "source": []
  }
 ],
 "metadata": {
  "kernelspec": {
   "display_name": "base",
   "language": "python",
   "name": "python3"
  },
  "language_info": {
   "codemirror_mode": {
    "name": "ipython",
    "version": 3
   },
   "file_extension": ".py",
   "mimetype": "text/x-python",
   "name": "python",
   "nbconvert_exporter": "python",
   "pygments_lexer": "ipython3",
   "version": "3.12.7"
  }
 },
 "nbformat": 4,
 "nbformat_minor": 5
}
