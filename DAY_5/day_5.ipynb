{
 "cells": [
  {
   "cell_type": "code",
   "execution_count": 1,
   "id": "6a162896",
   "metadata": {},
   "outputs": [
    {
     "name": "stdout",
     "output_type": "stream",
     "text": [
      "Apple\n",
      "Apple pie\n",
      "Peach\n",
      "Peach pie\n",
      "Pear\n",
      "Pear pie\n"
     ]
    }
   ],
   "source": [
    "# for loops\n",
    "\n",
    "fruits = [\"Apple\", \"Peach\", \"Pear\"]\n",
    "for fruit in fruits:\n",
    "    print(fruit)\n",
    "    print(fruit + \" pie\")"
   ]
  },
  {
   "cell_type": "code",
   "execution_count": 7,
   "id": "08cab5db",
   "metadata": {},
   "outputs": [
    {
     "name": "stdout",
     "output_type": "stream",
     "text": [
      "2068\n",
      "199\n",
      "24\n"
     ]
    }
   ],
   "source": [
    "## sum, min, max function\n",
    "## python has lots of functions for working with numbers\n",
    "\n",
    "student_scores = [150, 142, 185, 120, 171, 184, 149, 24, 59, 68, 199, 78, 65, 89, 86, 55, 91, 64, 89]\n",
    "a = sum(student_scores)\n",
    "print(a)\n",
    "print(max(student_scores))\n",
    "print(min(student_scores))"
   ]
  },
  {
   "cell_type": "code",
   "execution_count": 8,
   "id": "502a7763",
   "metadata": {},
   "outputs": [
    {
     "name": "stdout",
     "output_type": "stream",
     "text": [
      "2068\n"
     ]
    }
   ],
   "source": [
    "# sum function behind the scenes\n",
    "\n",
    "sum =0\n",
    "for score in student_scores:\n",
    "    sum+=score\n",
    "\n",
    "print(sum)"
   ]
  },
  {
   "cell_type": "code",
   "execution_count": 9,
   "id": "38b8ab84",
   "metadata": {},
   "outputs": [
    {
     "name": "stdout",
     "output_type": "stream",
     "text": [
      "91\n"
     ]
    }
   ],
   "source": [
    "# max function behind the scenes \n",
    "\n",
    "student_scores = [8,65 ,89 ,86 ,55, 91, 64, 89]\n",
    "highest_score = 0\n",
    "for score in student_scores:\n",
    "    if highest_score < score:\n",
    "        highest_score = score\n",
    "\n",
    "print(highest_score)"
   ]
  },
  {
   "cell_type": "code",
   "execution_count": null,
   "id": "9e524ea1",
   "metadata": {},
   "outputs": [
    {
     "name": "stdout",
     "output_type": "stream",
     "text": [
      "1\n",
      "2\n",
      "3\n",
      "4\n",
      "5\n",
      "6\n",
      "7\n",
      "8\n",
      "9\n"
     ]
    }
   ],
   "source": [
    "## RANGE \n",
    "\n",
    "\"\"\"\n",
    "for number in range(a,b,c): ## not including b and c is step size\n",
    "    print(number)\n",
    "\"\"\"\n",
    "\n",
    "for number in range(1,10):\n",
    "    print(number)\n",
    "    "
   ]
  },
  {
   "cell_type": "code",
   "execution_count": null,
   "id": "f2a30414",
   "metadata": {},
   "outputs": [
    {
     "name": "stdout",
     "output_type": "stream",
     "text": [
      "1\n",
      "4\n",
      "7\n"
     ]
    }
   ],
   "source": [
    "## using step\n",
    "for number in range(1,10,3):\n",
    "    print(number)"
   ]
  },
  {
   "cell_type": "code",
   "execution_count": 3,
   "id": "949741b6",
   "metadata": {},
   "outputs": [
    {
     "name": "stdout",
     "output_type": "stream",
     "text": [
      "5050\n"
     ]
    }
   ],
   "source": [
    "## THE GAUSS CHALLENGE\n",
    "# Work out the total of the numbers between 1 and 100, inclusive of both 1 and 100.\n",
    "\n",
    "sum = 0\n",
    "for number in range(1,101):\n",
    "    sum+=number\n",
    "print(sum)"
   ]
  },
  {
   "cell_type": "code",
   "execution_count": null,
   "id": "008bb489",
   "metadata": {},
   "outputs": [],
   "source": [
    "## FIZZ BUSS program\n",
    "for number in range(1,101):\n",
    "    if number % 3==0 and number % 5==0:\n",
    "        print(\"FizzBuzz\")\n",
    "    elif number%3==0:\n",
    "        print(\"Fizz\")\n",
    "    elif number%5==0:\n",
    "        print(\"Buzz\")\n",
    "    else:\n",
    "        print(number)"
   ]
  }
 ],
 "metadata": {
  "kernelspec": {
   "display_name": "Python 3",
   "language": "python",
   "name": "python3"
  },
  "language_info": {
   "codemirror_mode": {
    "name": "ipython",
    "version": 3
   },
   "file_extension": ".py",
   "mimetype": "text/x-python",
   "name": "python",
   "nbconvert_exporter": "python",
   "pygments_lexer": "ipython3",
   "version": "3.12.7"
  }
 },
 "nbformat": 4,
 "nbformat_minor": 5
}
