{
 "cells": [
  {
   "cell_type": "code",
   "execution_count": null,
   "id": "27dd6967",
   "metadata": {},
   "outputs": [],
   "source": [
    "## Life in weeks code\n",
    "\n",
    "def life_in_weeks(age):\n",
    "    weeks_left = (90 - age)*52\n",
    "    print(f\"You have {weeks_left} weeks left.\")\n",
    "    \n",
    "    \n",
    "    \n",
    "life_in_weeks(56)"
   ]
  },
  {
   "cell_type": "code",
   "execution_count": null,
   "id": "338c8751",
   "metadata": {},
   "outputs": [],
   "source": [
    "def calculate_love_score(name_1,name_2):\n",
    "    name_1 = name_1.lower()\n",
    "    name_2 = name_2.lower()\n",
    "    count_true = 0\n",
    "    count_love = 0\n",
    "    \n",
    "    ## Number of times the letter true occurs\n",
    "    true = [\"t\",\"r\",\"u\",\"e\"]\n",
    "    for i in true:\n",
    "        if i in name_1 :\n",
    "            count_true+=1\n",
    "        if i in name_2:\n",
    "            count_true+=1\n",
    "            \n",
    "    ## Number of times the letter true occurs\n",
    "    love = [\"l\",\"o\",\"v\",\"e\"]\n",
    "    for i in love:\n",
    "        if i in name_1:\n",
    "            count_love+=1\n",
    "        if i in name_2:\n",
    "            count_love+=1\n",
    "            \n",
    "    final_count = int(str(count_true)+str(count_love))\n",
    "    print(final_count)\n",
    "    "
   ]
  }
 ],
 "metadata": {
  "language_info": {
   "name": "python"
  }
 },
 "nbformat": 4,
 "nbformat_minor": 5
}
