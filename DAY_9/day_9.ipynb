{
 "cells": [
  {
   "cell_type": "markdown",
   "id": "e8600d73",
   "metadata": {},
   "source": [
    "## Dictionary \n",
    "\n",
    "`{key:value}`\n"
   ]
  },
  {
   "cell_type": "code",
   "execution_count": 22,
   "id": "30721d5f",
   "metadata": {},
   "outputs": [
    {
     "name": "stdout",
     "output_type": "stream",
     "text": [
      "{'Bug': 'An error in a program that prevents the program from running as expected.', 'Function': 'A piece of code that you can easily call over and over again.', 123: 'Take care of the data type.'}\n"
     ]
    }
   ],
   "source": [
    "## Example Dictionary\n",
    "\n",
    "programming_dictionary = {\"Bug\": \"An error in a program that prevents the program from running as expected.\",\n",
    "                          \"Function\": \"A piece of code that you can easily call over and over again.\",\n",
    "                          123:\"Take care of the data type.\"\n",
    "                          }\n",
    "\n",
    "print(programming_dictionary)\n"
   ]
  },
  {
   "cell_type": "code",
   "execution_count": 23,
   "id": "50aeab68",
   "metadata": {},
   "outputs": [
    {
     "name": "stdout",
     "output_type": "stream",
     "text": [
      "An error in a program that prevents the program from running as expected.\n",
      "Take care of the data type.\n"
     ]
    }
   ],
   "source": [
    "## Retreiving something from the dictionary\n",
    "print(programming_dictionary[\"Bug\"])\n",
    "print(programming_dictionary[123])"
   ]
  },
  {
   "cell_type": "code",
   "execution_count": 24,
   "id": "2517f79a",
   "metadata": {},
   "outputs": [],
   "source": [
    "## Adding items in a dictionary\n",
    "programming_dictionary[\"Loop\"] = \"The action of doing something again and again.\""
   ]
  },
  {
   "cell_type": "code",
   "execution_count": 25,
   "id": "53a57fba",
   "metadata": {},
   "outputs": [
    {
     "name": "stdout",
     "output_type": "stream",
     "text": [
      "Bug\n",
      "Function\n",
      "123\n",
      "Loop\n"
     ]
    }
   ],
   "source": [
    "## looping through a dict\n",
    "for key in programming_dictionary:\n",
    "    print(key)"
   ]
  },
  {
   "cell_type": "code",
   "execution_count": 26,
   "id": "3c4e3651",
   "metadata": {},
   "outputs": [
    {
     "name": "stdout",
     "output_type": "stream",
     "text": [
      "An error in a program that prevents the program from running as expected.\n",
      "A piece of code that you can easily call over and over again.\n",
      "Take care of the data type.\n",
      "The action of doing something again and again.\n"
     ]
    }
   ],
   "source": [
    "## Printing the values in a dict\n",
    "for key in programming_dictionary:\n",
    "    print(programming_dictionary[key])"
   ]
  },
  {
   "cell_type": "code",
   "execution_count": 27,
   "id": "a187c2d3",
   "metadata": {},
   "outputs": [],
   "source": [
    "## Creating an empty dictionary\n",
    "empty_dict = {}"
   ]
  },
  {
   "cell_type": "code",
   "execution_count": 28,
   "id": "ee8e65fb",
   "metadata": {},
   "outputs": [
    {
     "name": "stdout",
     "output_type": "stream",
     "text": [
      "{}\n"
     ]
    }
   ],
   "source": [
    "## to empty out the dict \n",
    "programming_dictionary = {}\n",
    "print(programming_dictionary)"
   ]
  },
  {
   "cell_type": "markdown",
   "id": "743b575f",
   "metadata": {},
   "source": [
    "### Exercise - Grading Program"
   ]
  },
  {
   "cell_type": "code",
   "execution_count": 29,
   "id": "f089eef0",
   "metadata": {},
   "outputs": [
    {
     "name": "stdout",
     "output_type": "stream",
     "text": [
      "{'Harry': 'Exceeds Expectations', 'Ron': 'Acceptable', 'Hermione': 'Outstanding', 'Draco': 'Acceptable', 'Neville': 'Fail'}\n"
     ]
    }
   ],
   "source": [
    "student_scores = {\n",
    "    'Harry': 88,\n",
    "    'Ron': 78,\n",
    "    'Hermione': 95,\n",
    "    'Draco': 75,\n",
    "    'Neville': 60\n",
    "}\n",
    "\n",
    "student_grades = {}\n",
    "\n",
    "for student_name in student_scores:\n",
    "    marks = student_scores[student_name]\n",
    "    \n",
    "    if marks >=91 and marks<=100:\n",
    "        grade = \"Outstanding\"\n",
    "    elif marks >=81 and marks<=90:\n",
    "        grade = \"Exceeds Expectations\"\n",
    "    elif marks >=71 and marks<=80:\n",
    "        grade = \"Acceptable\"\n",
    "    else: \n",
    "        grade = \"Fail\"\n",
    "        \n",
    "    student_grades[student_name] = grade\n",
    "    \n",
    "print(student_grades)"
   ]
  },
  {
   "cell_type": "markdown",
   "id": "57b8ac58",
   "metadata": {},
   "source": [
    "## Nesting a List inside a Dictionary"
   ]
  },
  {
   "cell_type": "code",
   "execution_count": 33,
   "id": "860af98b",
   "metadata": {},
   "outputs": [
    {
     "name": "stdout",
     "output_type": "stream",
     "text": [
      "{'France': ['Paris', 'Lille', 'Dijon'], 'Germany': ['Stuttgart', 'Berlin']}\n",
      "Lille\n"
     ]
    }
   ],
   "source": [
    "travel_log = {\n",
    "    \"France\": [\"Paris\", \"Lille\", \"Dijon\"],\n",
    "    \"Germany\": [\"Stuttgart\", \"Berlin\"],\n",
    "}\n",
    "\n",
    "print(travel_log)\n",
    "print(travel_log[\"France\"][1])"
   ]
  },
  {
   "cell_type": "markdown",
   "id": "f53be05f",
   "metadata": {},
   "source": [
    "## Nesting list inside a list"
   ]
  },
  {
   "cell_type": "code",
   "execution_count": 35,
   "id": "50f0dd38",
   "metadata": {},
   "outputs": [
    {
     "name": "stdout",
     "output_type": "stream",
     "text": [
      "['C', 'D']\n",
      "C\n"
     ]
    }
   ],
   "source": [
    "list_al = ['A','B',['C','D']]\n",
    "\n",
    "print(list_al[2])\n",
    "print(list_al[2][0])"
   ]
  },
  {
   "cell_type": "markdown",
   "id": "ce2e47eb",
   "metadata": {},
   "source": [
    "## Nesting a Dictionary inside a Dictionary"
   ]
  },
  {
   "cell_type": "code",
   "execution_count": 36,
   "id": "ea2cb1dd",
   "metadata": {},
   "outputs": [],
   "source": [
    "travel_log = {\n",
    "  \"France\": {\n",
    "    \"cities_visited\": [\"Paris\", \"Lille\", \"Dijon\"], \n",
    "    \"total_visits\": 12\n",
    "   },\n",
    "  \"Germany\": {\n",
    "    \"cities_visited\": [\"Berlin\", \"Hamburg\", \"Stuttgart\"], \n",
    "    \"total_visits\": 5\n",
    "   },\n",
    "}"
   ]
  },
  {
   "cell_type": "code",
   "execution_count": 39,
   "id": "0a2e1761",
   "metadata": {},
   "outputs": [
    {
     "data": {
      "text/plain": [
       "['Paris', 'Lille', 'Dijon']"
      ]
     },
     "execution_count": 39,
     "metadata": {},
     "output_type": "execute_result"
    }
   ],
   "source": [
    "travel_log[\"France\"][\"cities_visited\"]"
   ]
  },
  {
   "cell_type": "code",
   "execution_count": null,
   "id": "169069e6",
   "metadata": {},
   "outputs": [],
   "source": []
  }
 ],
 "metadata": {
  "kernelspec": {
   "display_name": "Python 3",
   "language": "python",
   "name": "python3"
  },
  "language_info": {
   "codemirror_mode": {
    "name": "ipython",
    "version": 3
   },
   "file_extension": ".py",
   "mimetype": "text/x-python",
   "name": "python",
   "nbconvert_exporter": "python",
   "pygments_lexer": "ipython3",
   "version": "3.12.7"
  }
 },
 "nbformat": 4,
 "nbformat_minor": 5
}
